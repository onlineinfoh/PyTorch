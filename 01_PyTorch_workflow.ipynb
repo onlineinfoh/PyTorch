{
 "cells": [
  {
   "cell_type": "code",
   "execution_count": 84,
   "metadata": {},
   "outputs": [
    {
     "name": "stdout",
     "output_type": "stream",
     "text": [
      "1 Load data as tensor\n",
      "2 Make a model\n",
      "3 Train the model with the data\n",
      "4 make prediction and evaluate the model(inference)\n",
      "5 Save it and loading a model\n",
      "6 Put all together\n"
     ]
    }
   ],
   "source": [
    "# Workflow\n",
    "list = {1:\"Load data as tensor\", 2:\"Make a model\", 3\n",
    "        :\"Train the model with the data\", \n",
    "        4:\"make prediction and evaluate the model(inference)\", \n",
    "        5: \"Save it and loading a model\", 6: \"Put all together\"}\n",
    "\n",
    "for it, info in list.items():\n",
    "    print(it, info)\n"
   ]
  },
  {
   "cell_type": "code",
   "execution_count": 85,
   "metadata": {},
   "outputs": [],
   "source": [
    "import torch\n",
    "from torch import nn # pytroch building blocks for neural network\n",
    "import matplotlib.pyplot as plt\n",
    "import numpy as np"
   ]
  },
  {
   "cell_type": "code",
   "execution_count": 86,
   "metadata": {},
   "outputs": [],
   "source": [
    "# Data processing\n",
    "\n",
    "weight = 0.7\n",
    "bias = 0.3\n",
    "\n",
    "start = 0\n",
    "end = 1\n",
    "step = 0.02\n",
    "\n",
    "# Artifical data\n",
    "X = torch.arange(start, end, step).unsqueeze(dim=1)\n",
    "y = weight*X+bias\n",
    "\n",
    "# Machine Learning is the process to try to match the input with output"
   ]
  },
  {
   "cell_type": "code",
   "execution_count": 87,
   "metadata": {},
   "outputs": [],
   "source": [
    "# Split data to train and test\n",
    "split_index = int(len(X)*0.8)\n",
    "X_train, y_train = X[:split_index], y[:split_index]\n",
    "X_test, y_test = X[split_index:], y[split_index:]"
   ]
  },
  {
   "cell_type": "code",
   "execution_count": 88,
   "metadata": {},
   "outputs": [
    {
     "data": {
      "text/plain": [
       "Text(0, 0.5, 'y values')"
      ]
     },
     "execution_count": 88,
     "metadata": {},
     "output_type": "execute_result"
    },
    {
     "data": {
      "image/png": "[encoded data removed]",
      "text/plain": [
       "<Figure size 640x480 with 1 Axes>"
      ]
     },
     "metadata": {},
     "output_type": "display_data"
    }
   ],
   "source": [
    "# Visualize the data\n",
    "plt.scatter(X_train, y_train, color='blue', label='Train data')\n",
    "plt.scatter(X_test, y_test, color='green', label='Train data')\n",
    "plt.xlabel('X values')\n",
    "plt.ylabel('y values')"
   ]
  },
  {
   "cell_type": "code",
   "execution_count": 89,
   "metadata": {},
   "outputs": [
    {
     "data": {
      "text/plain": [
       "'\\n    Model is designated to find weight and bias\\n\\n    Ways to find (get close to) the true values:\\n        1. Gradient descent\\n        2. Backpropagation\\n\\n'"
      ]
     },
     "execution_count": 89,
     "metadata": {},
     "output_type": "execute_result"
    }
   ],
   "source": [
    "'''\n",
    "    Model is designated to find weight and bias\n",
    "\n",
    "    Ways to find (get close to) the true values:\n",
    "        1. Gradient descent\n",
    "        2. Backpropagation\n",
    "\n",
    "'''"
   ]
  },
  {
   "cell_type": "code",
   "execution_count": 90,
   "metadata": {},
   "outputs": [],
   "source": [
    "# Linear Regression Function to find the weight and bias\n",
    "\n",
    "from torch import nn\n",
    "\n",
    "class LinearRegressionFunc(nn.Module):\n",
    "    def __init__(self):\n",
    "        super().__init__()\n",
    "        \n",
    "        # Initialize random values for weight\n",
    "        self.weight = nn.Parameter(torch.randn(1,\n",
    "                                               requires_grad=True, \n",
    "                                               dtype=torch.float\n",
    "                                               ))\n",
    "        \n",
    "        # Create initial random values for bias\n",
    "        self.bias = nn.Parameter(torch.randn(1,\n",
    "                                               requires_grad=True, \n",
    "                                               dtype=torch.float\n",
    "                                               ))\n",
    "        \n",
    "    # Calculate result using weight and bias values\n",
    "    def forward(self, X: torch.tensor) -> torch.tensor:\n",
    "        return self.weight * X + self.bias   # Define the forward computation, in this case is linear regression\n",
    "    \n",
    "class LinearRegressionFunc_using_nn_bulit_in(nn.Module):\n",
    "    def __init__(self):\n",
    "        super().__init__()\n",
    "\n",
    "        # use nn.Linear() to create model parameters weight and bias\n",
    "        self.linear_layer = nn.Linear(in_features=1, out_features=1) # This indicated the fucntion is taking only one input and giving only one output\n",
    "\n",
    "    def forward(self, X: torch.tensor) -> torch.tensor:\n",
    "        return "
   ]
  },
  {
   "cell_type": "code",
   "execution_count": 91,
   "metadata": {},
   "outputs": [],
   "source": [
    "# Random seed\n",
    "torch.manual_seed(100)\n",
    "# Create instance of the model\n",
    "model = LinearRegressionFunc()"
   ]
  },
  {
   "cell_type": "code",
   "execution_count": 92,
   "metadata": {},
   "outputs": [],
   "source": [
    "with torch.inference_mode():\n",
    "    y_prediction_example = model(X_test)"
   ]
  },
  {
   "cell_type": "code",
   "execution_count": 93,
   "metadata": {},
   "outputs": [
    {
     "data": {
      "text/plain": [
       "<matplotlib.legend.Legend at 0x26c0fefd3d0>"
      ]
     },
     "execution_count": 93,
     "metadata": {},
     "output_type": "execute_result"
    },
    {
     "data": {
      "image/png": "[encoded data removed]",
      "text/plain": [
       "<Figure size 640x480 with 1 Axes>"
      ]
     },
     "metadata": {},
     "output_type": "display_data"
    }
   ],
   "source": [
    "plt.scatter(X_train, y_train, color='blue', label='Train data')\n",
    "plt.scatter(X_test, y_test, color='green', label='Test data')\n",
    "plt.scatter(X_test, y_prediction_example, color='red', label='Prediction data')\n",
    "plt.legend()"
   ]
  },
  {
   "cell_type": "code",
   "execution_count": 94,
   "metadata": {},
   "outputs": [],
   "source": [
    "# Train the model to improve performance:\n",
    "\n",
    "    # Loss function: How wrong the model is compared to the expacted output, lower is better\n",
    "    # Optimizer: Take into account of the loss and adjust the parameters in the model\n",
    "\n",
    "    # Necessary actions for PyTorch: \n",
    "        # Training loop\n",
    "        # Testing loop"
   ]
  },
  {
   "cell_type": "code",
   "execution_count": 95,
   "metadata": {},
   "outputs": [],
   "source": [
    "loss_function = torch.nn.L1Loss() # Mean absolute error\n",
    "\n",
    "# torch.optim, contains a lot of optimizer fuctions\n",
    "# SDG (stochastic gradient descent, aka random gradient descent)\n",
    "optimizer = torch.optim.SGD (params=model.parameters(),\n",
    "                             lr=0.001,  # lr = learning rate, most important hyperparameter\n",
    "                             )\n"
   ]
  },
  {
   "cell_type": "code",
   "execution_count": 96,
   "metadata": {},
   "outputs": [
    {
     "data": {
      "text/plain": [
       "'\\n\\nSteps in a training loop\\n    1. Loop through the data\\n    2. Forward pass / Forward propagation using the forward() fuction\\n    3. Calculate loss using loss_fuction\\n    4. Optimizer zero grad\\n    5. Loss backward (backpropagation): move backwards through the network \\n       to calculate the gradients of each parameters in the model with respect to the loss\\n    6. Optimizer step (gradient descent): use the optimizer to adjudt the model parameters for lower loss\\n    \\n'"
      ]
     },
     "execution_count": 96,
     "metadata": {},
     "output_type": "execute_result"
    }
   ],
   "source": [
    "'''\n",
    "\n",
    "Steps in a training loop\n",
    "    1. Loop through the data\n",
    "    2. Forward pass / Forward propagation using the forward() fuction\n",
    "    3. Calculate loss using loss_fuction\n",
    "    4. Optimizer zero grad\n",
    "    5. Loss backward (backpropagation): move backwards through the network \n",
    "       to calculate the gradients of each parameters in the model with respect to the loss\n",
    "    6. Optimizer step (gradient descent): use the optimizer to adjudt the model parameters for lower loss\n",
    "    \n",
    "'''"
   ]
  },
  {
   "cell_type": "code",
   "execution_count": 97,
   "metadata": {},
   "outputs": [
    {
     "name": "stdout",
     "output_type": "stream",
     "text": [
      "Epoch: 0, train loss: 0.7182652950286865, test loss: 0.8865903615951538\n",
      "OrderedDict([('weight', tensor([0.3610])), ('bias', tensor([-0.2849]))])\n",
      "\n",
      "Epoch: 50, train loss: 0.660660982131958, test loss: 0.8192359805107117\n",
      "OrderedDict([('weight', tensor([0.3805])), ('bias', tensor([-0.2349]))])\n",
      "\n",
      "Epoch: 100, train loss: 0.6030559539794922, test loss: 0.7518813014030457\n",
      "OrderedDict([('weight', tensor([0.4000])), ('bias', tensor([-0.1849]))])\n",
      "\n",
      "Epoch: 150, train loss: 0.5454509854316711, test loss: 0.6845265030860901\n",
      "OrderedDict([('weight', tensor([0.4195])), ('bias', tensor([-0.1349]))])\n",
      "\n",
      "Epoch: 200, train loss: 0.4878459870815277, test loss: 0.6171716451644897\n",
      "OrderedDict([('weight', tensor([0.4390])), ('bias', tensor([-0.0849]))])\n",
      "\n",
      "Epoch: 250, train loss: 0.4302411675453186, test loss: 0.5498169660568237\n",
      "OrderedDict([('weight', tensor([0.4585])), ('bias', tensor([-0.0349]))])\n",
      "\n",
      "Epoch: 300, train loss: 0.37263625860214233, test loss: 0.4824622571468353\n",
      "OrderedDict([('weight', tensor([0.4780])), ('bias', tensor([0.0151]))])\n",
      "\n",
      "Epoch: 350, train loss: 0.3150314688682556, test loss: 0.4151075780391693\n",
      "OrderedDict([('weight', tensor([0.4975])), ('bias', tensor([0.0651]))])\n",
      "\n",
      "Epoch: 400, train loss: 0.2574264705181122, test loss: 0.34775274991989136\n",
      "OrderedDict([('weight', tensor([0.5170])), ('bias', tensor([0.1151]))])\n",
      "\n",
      "Epoch: 450, train loss: 0.19982151687145233, test loss: 0.28039801120758057\n",
      "OrderedDict([('weight', tensor([0.5365])), ('bias', tensor([0.1651]))])\n",
      "\n",
      "Epoch: 500, train loss: 0.1422165334224701, test loss: 0.213043212890625\n",
      "OrderedDict([('weight', tensor([0.5560])), ('bias', tensor([0.2151]))])\n",
      "\n",
      "Epoch: 550, train loss: 0.08461180329322815, test loss: 0.14568862318992615\n",
      "OrderedDict([('weight', tensor([0.5755])), ('bias', tensor([0.2651]))])\n",
      "\n",
      "Epoch: 600, train loss: 0.03125118836760521, test loss: 0.08095831423997879\n",
      "OrderedDict([('weight', tensor([0.5950])), ('bias', tensor([0.3125]))])\n",
      "\n",
      "Epoch: 650, train loss: 0.018271788954734802, test loss: 0.049259088933467865\n",
      "OrderedDict([('weight', tensor([0.6104])), ('bias', tensor([0.3305]))])\n",
      "\n",
      "Epoch: 700, train loss: 0.015863673761487007, test loss: 0.03856753557920456\n",
      "OrderedDict([('weight', tensor([0.6209])), ('bias', tensor([0.3318]))])\n",
      "\n",
      "Epoch: 750, train loss: 0.014118599705398083, test loss: 0.03305768221616745\n",
      "OrderedDict([('weight', tensor([0.6299])), ('bias', tensor([0.3293]))])\n",
      "\n",
      "Epoch: 800, train loss: 0.012399030849337578, test loss: 0.028920870274305344\n",
      "OrderedDict([('weight', tensor([0.6385])), ('bias', tensor([0.3258]))])\n",
      "\n",
      "Epoch: 850, train loss: 0.010681381449103355, test loss: 0.024921352043747902\n",
      "OrderedDict([('weight', tensor([0.6470])), ('bias', tensor([0.3222]))])\n",
      "\n",
      "Epoch: 900, train loss: 0.008963866159319878, test loss: 0.020853156223893166\n",
      "OrderedDict([('weight', tensor([0.6556])), ('bias', tensor([0.3187]))])\n",
      "\n",
      "Epoch: 950, train loss: 0.007246905472129583, test loss: 0.01688799262046814\n",
      "OrderedDict([('weight', tensor([0.6641])), ('bias', tensor([0.3151]))])\n",
      "\n",
      "Epoch: 1000, train loss: 0.005529296584427357, test loss: 0.012819821015000343\n",
      "OrderedDict([('weight', tensor([0.6727])), ('bias', tensor([0.3115]))])\n",
      "\n",
      "Epoch: 1050, train loss: 0.0038124353159219027, test loss: 0.0088546397164464\n",
      "OrderedDict([('weight', tensor([0.6812])), ('bias', tensor([0.3079]))])\n",
      "\n",
      "Epoch: 1100, train loss: 0.002094788011163473, test loss: 0.004855114035308361\n",
      "OrderedDict([('weight', tensor([0.6897])), ('bias', tensor([0.3043]))])\n",
      "\n",
      "Epoch: 1150, train loss: 0.00037796422839164734, test loss: 0.0008212864631786942\n",
      "OrderedDict([('weight', tensor([0.6983])), ('bias', tensor([0.3007]))])\n",
      "\n",
      "Epoch: 1200, train loss: 0.00044334231643006206, test loss: 0.0011086941231042147\n",
      "OrderedDict([('weight', tensor([0.6992])), ('bias', tensor([0.2996]))])\n",
      "\n",
      "Epoch: 1250, train loss: 0.00044334231643006206, test loss: 0.0011086941231042147\n",
      "OrderedDict([('weight', tensor([0.6992])), ('bias', tensor([0.2996]))])\n",
      "\n",
      "Epoch: 1300, train loss: 0.00044334231643006206, test loss: 0.0011086941231042147\n",
      "OrderedDict([('weight', tensor([0.6992])), ('bias', tensor([0.2996]))])\n",
      "\n",
      "Epoch: 1350, train loss: 0.00044334231643006206, test loss: 0.0011086941231042147\n",
      "OrderedDict([('weight', tensor([0.6992])), ('bias', tensor([0.2996]))])\n",
      "\n",
      "Epoch: 1400, train loss: 0.00044334231643006206, test loss: 0.0011086941231042147\n",
      "OrderedDict([('weight', tensor([0.6992])), ('bias', tensor([0.2996]))])\n",
      "\n",
      "Epoch: 1450, train loss: 0.00044334231643006206, test loss: 0.0011086941231042147\n",
      "OrderedDict([('weight', tensor([0.6992])), ('bias', tensor([0.2996]))])\n",
      "\n",
      "Epoch: 1500, train loss: 0.00044334231643006206, test loss: 0.0011086941231042147\n",
      "OrderedDict([('weight', tensor([0.6992])), ('bias', tensor([0.2996]))])\n",
      "\n",
      "Epoch: 1550, train loss: 0.00044334231643006206, test loss: 0.0011086941231042147\n",
      "OrderedDict([('weight', tensor([0.6992])), ('bias', tensor([0.2996]))])\n",
      "\n",
      "Epoch: 1600, train loss: 0.00044334231643006206, test loss: 0.0011086941231042147\n",
      "OrderedDict([('weight', tensor([0.6992])), ('bias', tensor([0.2996]))])\n",
      "\n",
      "Epoch: 1650, train loss: 0.00044334231643006206, test loss: 0.0011086941231042147\n",
      "OrderedDict([('weight', tensor([0.6992])), ('bias', tensor([0.2996]))])\n",
      "\n",
      "Epoch: 1700, train loss: 0.00044334231643006206, test loss: 0.0011086941231042147\n",
      "OrderedDict([('weight', tensor([0.6992])), ('bias', tensor([0.2996]))])\n",
      "\n",
      "Epoch: 1750, train loss: 0.00044334231643006206, test loss: 0.0011086941231042147\n",
      "OrderedDict([('weight', tensor([0.6992])), ('bias', tensor([0.2996]))])\n",
      "\n",
      "Epoch: 1800, train loss: 0.00044334231643006206, test loss: 0.0011086941231042147\n",
      "OrderedDict([('weight', tensor([0.6992])), ('bias', tensor([0.2996]))])\n",
      "\n",
      "Epoch: 1850, train loss: 0.00044334231643006206, test loss: 0.0011086941231042147\n",
      "OrderedDict([('weight', tensor([0.6992])), ('bias', tensor([0.2996]))])\n",
      "\n",
      "Epoch: 1900, train loss: 0.00044334231643006206, test loss: 0.0011086941231042147\n",
      "OrderedDict([('weight', tensor([0.6992])), ('bias', tensor([0.2996]))])\n",
      "\n",
      "Epoch: 1950, train loss: 0.00044334231643006206, test loss: 0.0011086941231042147\n",
      "OrderedDict([('weight', tensor([0.6992])), ('bias', tensor([0.2996]))])\n",
      "\n"
     ]
    }
   ],
   "source": [
    "epoches = 2000\n",
    "\n",
    "epoches_count = []\n",
    "train_loss_count = []\n",
    "test_loss_count = []\n",
    "\n",
    "for epoch in range(epoches): # Step 1, loop the data\n",
    "\n",
    "    # Set model to traning mode\n",
    "    model.train()\n",
    "\n",
    "    # Step 2, pass the data forward\n",
    "    train_prediction = model(X_train)\n",
    "\n",
    "    # Step 3, calculate loss\n",
    "    train_loss = loss_function(train_prediction, y_train)   # loss_function takes in (input, target)\n",
    "\n",
    "    # Step 4, optimizer zero grad\n",
    "    optimizer.zero_grad()\n",
    "\n",
    "    # Step 5, Perform backpropagation, calculate gradients\n",
    "    train_loss.backward()\n",
    "\n",
    "    # Step 6, use the optimizer to adjust the parameters\n",
    "    optimizer.step() # By default, parameter values the optimizer changed will accumulate\n",
    "                     # Thats why Step 3 is needed to zero out the changes made for next epoch\n",
    "\n",
    "#***************************************************************************************************\n",
    "\n",
    "    test_prediction = model(X_test)\n",
    "    test_loss = loss_function(test_prediction, y_test)\n",
    "\n",
    "    epoches_count.append(epoch)\n",
    "    train_loss_count.append(train_loss)\n",
    "    test_loss_count.append(test_loss)\n",
    "\n",
    "    if epoch%50 ==0:\n",
    "        print(f\"Epoch: {epoch}, train loss: {train_loss}, test loss: {test_loss}\")\n",
    "        print(model.state_dict())\n",
    "        print()\n"
   ]
  },
  {
   "cell_type": "code",
   "execution_count": 98,
   "metadata": {},
   "outputs": [
    {
     "name": "stdout",
     "output_type": "stream",
     "text": [
      "Test loss: 0.00023839474306441844\n"
     ]
    }
   ],
   "source": [
    "# Model testing\n",
    "\n",
    "# set model to testing mode\n",
    "model.eval()\n",
    "\n",
    "# turn more things off for tesing\n",
    "with torch.inference_mode():\n",
    "    final_test_prediction = model(X_test)\n",
    "\n",
    "    final_test_loss = loss_function(test_prediction, y_test)\n",
    "\n",
    "    print(f\"Test loss: {final_test_loss}\")\n"
   ]
  },
  {
   "cell_type": "code",
   "execution_count": 99,
   "metadata": {},
   "outputs": [
    {
     "data": {
      "text/plain": [
       "<matplotlib.legend.Legend at 0x26c101a3450>"
      ]
     },
     "execution_count": 99,
     "metadata": {},
     "output_type": "execute_result"
    },
    {
     "data": {
      "image/png": "[encoded data removed]",
      "text/plain": [
       "<Figure size 640x480 with 1 Axes>"
      ]
     },
     "metadata": {},
     "output_type": "display_data"
    }
   ],
   "source": [
    "with torch.inference_mode():    \n",
    "    plot = model(X_test)\n",
    "\n",
    "plt.scatter(X_train, y_train, color='blue', label='Train data')\n",
    "plt.scatter(X_test, y_test, color='green', label='Test data')\n",
    "plt.scatter(X_test, plot, color='red', label='Prediction data')\n",
    "plt.legend()"
   ]
  },
  {
   "cell_type": "code",
   "execution_count": 100,
   "metadata": {},
   "outputs": [
    {
     "data": {
      "text/plain": [
       "<matplotlib.legend.Legend at 0x26c10043450>"
      ]
     },
     "execution_count": 100,
     "metadata": {},
     "output_type": "execute_result"
    },
    {
     "data": {
      "image/png": "[encoded data removed]",
      "text/plain": [
       "<Figure size 640x480 with 1 Axes>"
      ]
     },
     "metadata": {},
     "output_type": "display_data"
    }
   ],
   "source": [
    "train_loss_count = torch.tensor(train_loss_count)\n",
    "train_loss_count = np.array(train_loss_count)\n",
    "\n",
    "test_loss_count = torch.tensor(test_loss_count)\n",
    "test_loss_count = np.array(test_loss_count)\n",
    "\n",
    "plt.plot(epoches_count, train_loss_count, color=\"blue\", label=\"Train loss state\")\n",
    "plt.plot(epoches_count, test_loss_count, color=\"red\", label=\"Test loss state\")\n",
    "plt.legend()"
   ]
  },
  {
   "cell_type": "code",
   "execution_count": 101,
   "metadata": {},
   "outputs": [
    {
     "data": {
      "text/plain": [
       "OrderedDict([('weight', tensor([0.6996])), ('bias', tensor([0.3006]))])"
      ]
     },
     "execution_count": 101,
     "metadata": {},
     "output_type": "execute_result"
    }
   ],
   "source": [
    "# Save the model\n",
    "torch.save(model, \"../PyTorch/saved_model.pth\")\n",
    "\n",
    "# Load the saved model\n",
    "new_model = torch.load(\"../PyTorch/saved_model.pth\")\n",
    "new_model.state_dict()"
   ]
  },
  {
   "cell_type": "code",
   "execution_count": 64,
   "metadata": {},
   "outputs": [],
   "source": []
  },
  {
   "cell_type": "code",
   "execution_count": null,
   "metadata": {},
   "outputs": [],
   "source": []
  },
  {
   "cell_type": "code",
   "execution_count": null,
   "metadata": {},
   "outputs": [],
   "source": []
  }
 ],
 "metadata": {
  "kernelspec": {
   "display_name": "base",
   "language": "python",
   "name": "python3"
  },
  "language_info": {
   "codemirror_mode": {
    "name": "ipython",
    "version": 3
   },
   "file_extension": ".py",
   "mimetype": "text/x-python",
   "name": "python",
   "nbconvert_exporter": "python",
   "pygments_lexer": "ipython3",
   "version": "3.11.7"
  }
 },
 "nbformat": 4,
 "nbformat_minor": 2
}
