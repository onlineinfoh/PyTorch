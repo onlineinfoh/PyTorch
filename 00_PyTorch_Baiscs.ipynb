{
 "cells": [
  {
   "cell_type": "code",
   "execution_count": 149,
   "metadata": {},
   "outputs": [
    {
     "name": "stdout",
     "output_type": "stream",
     "text": [
      "2.2.0\n"
     ]
    }
   ],
   "source": [
    "import torch\n",
    "from torch import nn\n",
    "import pandas as pd\n",
    "import numpy as np\n",
    "import matplotlib.pyplot as plt\n",
    "print(torch.__version__)"
   ]
  },
  {
   "cell_type": "code",
   "execution_count": 150,
   "metadata": {},
   "outputs": [
    {
     "data": {
      "text/plain": [
       "torch.Size([2, 2, 2])"
      ]
     },
     "execution_count": 150,
     "metadata": {},
     "output_type": "execute_result"
    }
   ],
   "source": [
    "# Create tensor\n",
    "\n",
    "TENSOR = torch.tensor([[[1, 2], [4, 5]], [[9, 8], [1,2]]])\n",
    "TENSOR.shape\n"
   ]
  },
  {
   "cell_type": "code",
   "execution_count": 151,
   "metadata": {},
   "outputs": [
    {
     "data": {
      "text/plain": [
       "tensor([[0.1049, 0.9564, 0.4883, 0.5452],\n",
       "        [0.5629, 0.3676, 0.9494, 0.5594],\n",
       "        [0.2729, 0.3658, 0.5597, 0.3000]])"
      ]
     },
     "execution_count": 151,
     "metadata": {},
     "output_type": "execute_result"
    }
   ],
   "source": [
    "torch.rand(3, 4)"
   ]
  },
  {
   "cell_type": "code",
   "execution_count": 152,
   "metadata": {},
   "outputs": [
    {
     "data": {
      "text/plain": [
       "tensor([[[0.8534, 0.2759, 0.1201],\n",
       "         [0.7756, 0.0765, 0.0981],\n",
       "         [0.4989, 0.3220, 0.3267],\n",
       "         ...,\n",
       "         [0.5762, 0.2185, 0.6940],\n",
       "         [0.7367, 0.9335, 0.0244],\n",
       "         [0.7654, 0.4948, 0.5348]],\n",
       "\n",
       "        [[0.2726, 0.4459, 0.2408],\n",
       "         [0.1418, 0.7263, 0.2561],\n",
       "         [0.1298, 0.9547, 0.8891],\n",
       "         ...,\n",
       "         [0.8546, 0.4680, 0.4388],\n",
       "         [0.3059, 0.6959, 0.9865],\n",
       "         [0.8519, 0.2704, 0.7750]],\n",
       "\n",
       "        [[0.0153, 0.2735, 0.9630],\n",
       "         [0.2687, 0.4720, 0.5725],\n",
       "         [0.5431, 0.9533, 0.6479],\n",
       "         ...,\n",
       "         [0.5214, 0.7043, 0.9118],\n",
       "         [0.4554, 0.4927, 0.9402],\n",
       "         [0.6482, 0.5688, 0.4067]],\n",
       "\n",
       "        ...,\n",
       "\n",
       "        [[0.6108, 0.4965, 0.8596],\n",
       "         [0.1715, 0.5787, 0.2392],\n",
       "         [0.8625, 0.7525, 0.9358],\n",
       "         ...,\n",
       "         [0.8723, 0.9594, 0.1981],\n",
       "         [0.4518, 0.9372, 0.0369],\n",
       "         [0.7032, 0.6806, 0.2159]],\n",
       "\n",
       "        [[0.1551, 0.6245, 0.2804],\n",
       "         [0.1396, 0.1321, 0.1663],\n",
       "         [0.2650, 0.6741, 0.0643],\n",
       "         ...,\n",
       "         [0.0556, 0.2118, 0.8916],\n",
       "         [0.6448, 0.4361, 0.3125],\n",
       "         [0.9087, 0.2241, 0.9732]],\n",
       "\n",
       "        [[0.3138, 0.1313, 0.6782],\n",
       "         [0.9082, 0.5308, 0.9296],\n",
       "         [0.0605, 0.6283, 0.2472],\n",
       "         ...,\n",
       "         [0.0875, 0.7771, 0.0774],\n",
       "         [0.3178, 0.8511, 0.2348],\n",
       "         [0.7556, 0.8362, 0.7868]]])"
      ]
     },
     "execution_count": 152,
     "metadata": {},
     "output_type": "execute_result"
    }
   ],
   "source": [
    "random_image_tensor = torch.rand(64,64,3)\n",
    "random_image_tensor"
   ]
  },
  {
   "cell_type": "code",
   "execution_count": 153,
   "metadata": {},
   "outputs": [
    {
     "data": {
      "text/plain": [
       "tensor([ 1,  2,  3,  4,  5,  6,  7,  8,  9, 10])"
      ]
     },
     "execution_count": 153,
     "metadata": {},
     "output_type": "execute_result"
    }
   ],
   "source": [
    "list = torch.arange(1,11,1)\n",
    "list\n"
   ]
  },
  {
   "cell_type": "code",
   "execution_count": 154,
   "metadata": {},
   "outputs": [
    {
     "data": {
      "text/plain": [
       "tensor([1, 1, 1, 1, 1, 1, 1, 1, 1, 1])"
      ]
     },
     "execution_count": 154,
     "metadata": {},
     "output_type": "execute_result"
    }
   ],
   "source": [
    "copy = torch.ones_like(list)\n",
    "copy"
   ]
  },
  {
   "cell_type": "code",
   "execution_count": 155,
   "metadata": {},
   "outputs": [
    {
     "name": "stdout",
     "output_type": "stream",
     "text": [
      "tensor([1, 2, 3, 4])\n",
      "Data type: torch.int64\n",
      "Shape: torch.Size([4])\n",
      "Device runs on: cpu\n"
     ]
    }
   ],
   "source": [
    "shape = torch.tensor(data=[1,2,3,4], dtype=torch.int64, device=None, requires_grad=False)\n",
    "\n",
    "def tensor_info(tensor):\n",
    "    print(tensor)\n",
    "    print(f\"Data type: {tensor.dtype}\")\n",
    "    print(f\"Shape: {tensor.shape}\")\n",
    "    print(f\"Device runs on: {tensor.device}\")\n",
    "\n",
    "tensor_info(shape)"
   ]
  },
  {
   "cell_type": "code",
   "execution_count": 156,
   "metadata": {},
   "outputs": [],
   "source": [
    "tensor1 = torch.tensor(\n",
    "    [\n",
    "    [1,2,3,8],\n",
    "    [4,5,6,7]\n",
    "    ]\n",
    "                       )\n",
    "\n",
    "tensor2 = torch.tensor(\n",
    "    [\n",
    "    [1,2],\n",
    "    [3,4],\n",
    "    [5,6],\n",
    "    [2,9]\n",
    "    ]\n",
    ")\n",
    "\n",
    "product = torch.matmul(tensor1, tensor2)"
   ]
  },
  {
   "cell_type": "code",
   "execution_count": 157,
   "metadata": {},
   "outputs": [
    {
     "name": "stdout",
     "output_type": "stream",
     "text": [
      "tensor([[ 38, 100],\n",
      "        [ 63, 127]])\n"
     ]
    },
    {
     "data": {
      "text/plain": [
       "tensor([[ 38,  63],\n",
       "        [100, 127]])"
      ]
     },
     "execution_count": 157,
     "metadata": {},
     "output_type": "execute_result"
    }
   ],
   "source": [
    "print(product)\n",
    "product.T # Transverse the matrix"
   ]
  },
  {
   "cell_type": "code",
   "execution_count": 158,
   "metadata": {},
   "outputs": [
    {
     "name": "stdout",
     "output_type": "stream",
     "text": [
      "tensor([ 0,  1,  2,  3,  4,  5,  6,  7,  8,  9, 10, 11, 12, 13, 14, 15, 16, 17,\n",
      "        18, 19])\n",
      "Max: 19\n",
      "Min: 0\n",
      "Sum: 190\n",
      "Median: 9\n",
      "Mean: 9.5\n"
     ]
    }
   ],
   "source": [
    "# Tensor aggregation\n",
    "\n",
    "x = torch.arange(0, 20, 1)\n",
    "print(x)\n",
    "print(f\"Max: {x.max()}\")\n",
    "print(f\"Min: {x.min()}\")\n",
    "print(f\"Sum: {x.sum()}\")\n",
    "print(f\"Median: {x.median()}\")\n",
    "print(f\"Mean: {x.type(torch.float32).mean()}\") # Have to convert the tensor to float first"
   ]
  },
  {
   "cell_type": "code",
   "execution_count": 159,
   "metadata": {},
   "outputs": [
    {
     "name": "stdout",
     "output_type": "stream",
     "text": [
      "tensor([ 1,  2,  3,  4,  5,  6,  7,  8,  9, 10])\n"
     ]
    },
    {
     "data": {
      "text/plain": [
       "tensor([[[ 1,  2],\n",
       "         [ 3,  4],\n",
       "         [ 5,  6],\n",
       "         [ 7,  8],\n",
       "         [ 9, 10]]])"
      ]
     },
     "execution_count": 159,
     "metadata": {},
     "output_type": "execute_result"
    }
   ],
   "source": [
    "example = torch.arange(1, 11, 1)\n",
    "print(example)\n",
    "\n",
    "# Rashape tensor to a dimention\n",
    "torch.reshape(example, (1,5,2))"
   ]
  },
  {
   "cell_type": "code",
   "execution_count": 160,
   "metadata": {},
   "outputs": [
    {
     "data": {
      "text/plain": [
       "tensor([ 0,  2,  3,  4,  5,  6,  7,  8,  9, 10])"
      ]
     },
     "execution_count": 160,
     "metadata": {},
     "output_type": "execute_result"
    }
   ],
   "source": [
    "example2 = example.view(1,10)\n",
    "example2[:,0] = 0 # change the value at index 0 of example2 changes example 2 because of the view() function\n",
    "example"
   ]
  },
  {
   "cell_type": "code",
   "execution_count": 161,
   "metadata": {},
   "outputs": [
    {
     "name": "stdout",
     "output_type": "stream",
     "text": [
      "tensor([4, 5, 6, 4, 5, 6])\n",
      "tensor([[4, 5, 6],\n",
      "        [4, 5, 6]])\n",
      "tensor([[4, 5, 6],\n",
      "        [4, 5, 6]])\n",
      "tensor([[4, 4],\n",
      "        [5, 5],\n",
      "        [6, 6]])\n"
     ]
    }
   ],
   "source": [
    "a = torch.tensor(\n",
    "        [4,5,6]\n",
    "                )\n",
    "\n",
    "b = torch.tensor(\n",
    "        [4,5,6]\n",
    "                )\n",
    "print(torch.hstack((a,b)))\n",
    "print(torch.stack((a,b)))\n",
    "\n",
    "print(torch.stack((a,b), dim=0))\n",
    "print(torch.stack((a,b), dim=1))"
   ]
  },
  {
   "cell_type": "code",
   "execution_count": 162,
   "metadata": {},
   "outputs": [
    {
     "name": "stdout",
     "output_type": "stream",
     "text": [
      "tensor([[1, 2],\n",
      "        [3, 4]])\n",
      "torch.Size([2, 2])\n",
      "tensor([[[1, 2]],\n",
      "\n",
      "        [[3, 4]]])\n",
      "torch.Size([2, 1, 2])\n",
      "tensor([[1, 2],\n",
      "        [3, 4]])\n",
      "torch.Size([2, 2])\n"
     ]
    }
   ],
   "source": [
    "x = torch.tensor([\n",
    "    [1,2],\n",
    "    [3,4]\n",
    "])\n",
    "print(x)\n",
    "print(x.shape)\n",
    "\n",
    "x=x.unsqueeze(dim=1)\n",
    "print(x)\n",
    "print(x.shape)\n",
    "\n",
    "x=x.squeeze()\n",
    "print(x)\n",
    "print(x.shape)\n"
   ]
  },
  {
   "cell_type": "code",
   "execution_count": 163,
   "metadata": {},
   "outputs": [
    {
     "name": "stdout",
     "output_type": "stream",
     "text": [
      "tensor([[[1, 2, 5]],\n",
      "\n",
      "        [[3, 4, 6]]]) torch.Size([2, 1, 3])\n",
      "tensor([[[1, 3],\n",
      "         [2, 4],\n",
      "         [5, 6]]]) torch.Size([1, 3, 2])\n"
     ]
    }
   ],
   "source": [
    "x = torch.tensor([\n",
    "    [1,2,5],\n",
    "    [3,4,6]\n",
    "])\n",
    "\n",
    "x = x.unsqueeze(dim=1)\n",
    "print(x, x.shape)\n",
    "x=x.permute(1,2,0)  # permute manipulate the dimentions by change their orders\n",
    "print(x, x.shape)"
   ]
  },
  {
   "cell_type": "code",
   "execution_count": null,
   "metadata": {},
   "outputs": [],
   "source": []
  },
  {
   "cell_type": "code",
   "execution_count": 164,
   "metadata": {},
   "outputs": [
    {
     "name": "stdout",
     "output_type": "stream",
     "text": [
      "[ 1  2  3  4  5  6  7  8  9 10]\n",
      "tensor([ 1,  2,  3,  4,  5,  6,  7,  8,  9, 10], dtype=torch.int32)\n"
     ]
    }
   ],
   "source": [
    "# Convert Numpy array to pytorch tensor\n",
    "\n",
    "arr = np.arange(1,11,1)\n",
    "print(arr)\n",
    "\n",
    "arr_to_tensor = torch.from_numpy(arr)\n",
    "print(arr_to_tensor)\n"
   ]
  },
  {
   "cell_type": "code",
   "execution_count": null,
   "metadata": {},
   "outputs": [],
   "source": []
  },
  {
   "cell_type": "code",
   "execution_count": 165,
   "metadata": {},
   "outputs": [
    {
     "name": "stdout",
     "output_type": "stream",
     "text": [
      "tensor([[0.4814, 0.5225, 0.9889],\n",
      "        [0.4548, 0.5006, 0.5227],\n",
      "        [0.9097, 0.0697, 0.0596]])\n",
      "tensor([[0.4814, 0.5225, 0.9889],\n",
      "        [0.4548, 0.5006, 0.5227],\n",
      "        [0.9097, 0.0697, 0.0596]])\n",
      "tensor([[True, True, True],\n",
      "        [True, True, True],\n",
      "        [True, True, True]])\n"
     ]
    }
   ],
   "source": [
    "# Reproducibility\n",
    "\n",
    "# Set up reproduciable random tensors\n",
    "\n",
    "RANDOM_SEED = 31415926\n",
    "\n",
    "torch.manual_seed(RANDOM_SEED)\n",
    "one = torch.rand(3,3)\n",
    "print(one)\n",
    "\n",
    "\n",
    "torch.manual_seed(RANDOM_SEED)\n",
    "two = torch.rand(3,3)\n",
    "print(two)\n",
    "print(one==two)\n"
   ]
  },
  {
   "cell_type": "code",
   "execution_count": null,
   "metadata": {},
   "outputs": [],
   "source": []
  }
 ],
 "metadata": {
  "kernelspec": {
   "display_name": "base",
   "language": "python",
   "name": "python3"
  },
  "language_info": {
   "codemirror_mode": {
    "name": "ipython",
    "version": 3
   },
   "file_extension": ".py",
   "mimetype": "text/x-python",
   "name": "python",
   "nbconvert_exporter": "python",
   "pygments_lexer": "ipython3",
   "version": "3.11.7"
  }
 },
 "nbformat": 4,
 "nbformat_minor": 2
}
